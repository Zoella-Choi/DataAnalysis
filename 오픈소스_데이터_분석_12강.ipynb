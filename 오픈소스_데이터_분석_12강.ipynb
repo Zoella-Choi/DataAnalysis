{
  "nbformat": 4,
  "nbformat_minor": 0,
  "metadata": {
    "colab": {
      "provenance": [],
      "gpuType": "T4",
      "include_colab_link": true
    },
    "kernelspec": {
      "name": "python3",
      "display_name": "Python 3"
    },
    "language_info": {
      "name": "python"
    },
    "accelerator": "GPU"
  },
  "cells": [
    {
      "cell_type": "markdown",
      "metadata": {
        "id": "view-in-github",
        "colab_type": "text"
      },
      "source": [
        "<a href=\"https://colab.research.google.com/github/Zoella-Choi/DataAnalysis/blob/main/%EC%98%A4%ED%94%88%EC%86%8C%EC%8A%A4_%EB%8D%B0%EC%9D%B4%ED%84%B0_%EB%B6%84%EC%84%9D_12%EA%B0%95.ipynb\" target=\"_parent\"><img src=\"https://colab.research.google.com/assets/colab-badge.svg\" alt=\"Open In Colab\"/></a>"
      ]
    },
    {
      "cell_type": "markdown",
      "source": [
        "# 12강 정형 데이터 분석 : 서울시 공공 자전거 데이터 활용\n",
        "\n",
        "### 목표\n",
        "\n",
        "공공 자전거 이용 특성을 파악하고, 날씨와 자전거 이용량의 상관관계를 분석하여 데이터 기반의 정책 수립에 필요한 인사이트를 도출\n",
        "\n",
        "### 분석 프로세스 개요\n",
        "\n",
        "1. 데이터 수집 및 전처리\n",
        "  - CSV 형태의 데이터 수집\n",
        "  - 기초 통계량 산출\n",
        "  - 결측치 처리 및 이상치 제거\n",
        "  - 날짜/시간 데이터 형식 변환\n",
        "2. 데이터 분석\n",
        "  - 시계열 패턴 분석\n",
        "3. 연계 분석\n",
        "  - 강수량 데이터와의 연계 분석\n",
        "  - 상관관계 분석\n",
        "  - 정책 제언으로 연결"
      ],
      "metadata": {
        "id": "EZhL8Dh2fXOv"
      }
    },
    {
      "cell_type": "code",
      "source": [
        "# 한글 처리를 위한 matplotlib 설정 (1)\n",
        "\n",
        "!sudo apt-get install -y fonts-nanum\n",
        "!sudo fc-cache –fv\n",
        "!rm ~/.cache/matplotlib -rf"
      ],
      "metadata": {
        "id": "MX4krAdHjx2Y",
        "colab": {
          "base_uri": "https://localhost:8080/"
        },
        "outputId": "6adc27e8-bff1-401e-ebc6-5733037e07af"
      },
      "execution_count": 1,
      "outputs": [
        {
          "output_type": "stream",
          "name": "stdout",
          "text": [
            "Reading package lists... Done\n",
            "Building dependency tree... Done\n",
            "Reading state information... Done\n",
            "The following NEW packages will be installed:\n",
            "  fonts-nanum\n",
            "0 upgraded, 1 newly installed, 0 to remove and 38 not upgraded.\n",
            "Need to get 10.3 MB of archives.\n",
            "After this operation, 34.1 MB of additional disk space will be used.\n",
            "Get:1 http://archive.ubuntu.com/ubuntu jammy/universe amd64 fonts-nanum all 20200506-1 [10.3 MB]\n",
            "Fetched 10.3 MB in 2s (5,718 kB/s)\n",
            "debconf: unable to initialize frontend: Dialog\n",
            "debconf: (No usable dialog-like program is installed, so the dialog based frontend cannot be used. at /usr/share/perl5/Debconf/FrontEnd/Dialog.pm line 78, <> line 1.)\n",
            "debconf: falling back to frontend: Readline\n",
            "debconf: unable to initialize frontend: Readline\n",
            "debconf: (This frontend requires a controlling tty.)\n",
            "debconf: falling back to frontend: Teletype\n",
            "dpkg-preconfigure: unable to re-open stdin: \n",
            "Selecting previously unselected package fonts-nanum.\n",
            "(Reading database ... 126675 files and directories currently installed.)\n",
            "Preparing to unpack .../fonts-nanum_20200506-1_all.deb ...\n",
            "Unpacking fonts-nanum (20200506-1) ...\n",
            "Setting up fonts-nanum (20200506-1) ...\n",
            "Processing triggers for fontconfig (2.13.1-4.2ubuntu5) ...\n"
          ]
        }
      ]
    },
    {
      "cell_type": "markdown",
      "source": [
        "- 런타임 -> 세션 다시 시작"
      ],
      "metadata": {
        "id": "UO0Qyqdnj1e9"
      }
    },
    {
      "cell_type": "code",
      "source": [
        "# 한글 처리를 위한 matplotlib 설정 (2)\n",
        "\n",
        "import matplotlib.pyplot as plt\n",
        "plt.rc('font', family='NanumBarunGothic')"
      ],
      "metadata": {
        "id": "oGHdeZdNj2CY"
      },
      "execution_count": 2,
      "outputs": []
    },
    {
      "cell_type": "markdown",
      "source": [
        "# 1. 데이터 수집 및 전처리"
      ],
      "metadata": {
        "id": "BMJzw0zqmOa8"
      }
    },
    {
      "cell_type": "markdown",
      "source": [
        "### 12-1 따릉이 대역 기록 2023-04 업로드 및 압축 해제\n",
        "\n",
        "- 따릉이 데이터 다운로드\n",
        "  - [서울 열린데이터 광장](https://data.seoul.go.kr)\n",
        "  - 검색어 : 따릉이\n",
        "  - 서울시 따릉이 대여소별 대여/반납 승객수 정보\n",
        "  - 2023-04 다운로드 후 업로드"
      ],
      "metadata": {
        "id": "_eBHEQ-bjS43"
      }
    },
    {
      "cell_type": "code",
      "source": [
        "!unzip tpss_bcycl_od_statnhm_202304.zip -d tpss_bcycl_od_statnhm_202304"
      ],
      "metadata": {
        "id": "DHqKgEYFjPoG",
        "colab": {
          "base_uri": "https://localhost:8080/"
        },
        "outputId": "236509d1-2ddc-4bdf-ce15-1acecb4b015f"
      },
      "execution_count": 5,
      "outputs": [
        {
          "output_type": "stream",
          "name": "stdout",
          "text": [
            "Archive:  tpss_bcycl_od_statnhm_202304.zip\n",
            "  inflating: tpss_bcycl_od_statnhm_202304/tpss_bcycl_od_statnhm_20230401.csv  \n",
            "  inflating: tpss_bcycl_od_statnhm_202304/tpss_bcycl_od_statnhm_20230402.csv  \n",
            "  inflating: tpss_bcycl_od_statnhm_202304/tpss_bcycl_od_statnhm_20230403.csv  \n",
            "  inflating: tpss_bcycl_od_statnhm_202304/tpss_bcycl_od_statnhm_20230404.csv  \n",
            "  inflating: tpss_bcycl_od_statnhm_202304/tpss_bcycl_od_statnhm_20230405.csv  \n",
            "  inflating: tpss_bcycl_od_statnhm_202304/tpss_bcycl_od_statnhm_20230406.csv  \n",
            "  inflating: tpss_bcycl_od_statnhm_202304/tpss_bcycl_od_statnhm_20230407.csv  \n",
            "  inflating: tpss_bcycl_od_statnhm_202304/tpss_bcycl_od_statnhm_20230408.csv  \n",
            "  inflating: tpss_bcycl_od_statnhm_202304/tpss_bcycl_od_statnhm_20230409.csv  \n",
            "  inflating: tpss_bcycl_od_statnhm_202304/tpss_bcycl_od_statnhm_20230410.csv  \n",
            "  inflating: tpss_bcycl_od_statnhm_202304/tpss_bcycl_od_statnhm_20230411.csv  \n",
            "  inflating: tpss_bcycl_od_statnhm_202304/tpss_bcycl_od_statnhm_20230412.csv  \n",
            "  inflating: tpss_bcycl_od_statnhm_202304/tpss_bcycl_od_statnhm_20230413.csv  \n",
            "  inflating: tpss_bcycl_od_statnhm_202304/tpss_bcycl_od_statnhm_20230414.csv  \n",
            "  inflating: tpss_bcycl_od_statnhm_202304/tpss_bcycl_od_statnhm_20230415.csv  \n",
            "  inflating: tpss_bcycl_od_statnhm_202304/tpss_bcycl_od_statnhm_20230416.csv  \n",
            "  inflating: tpss_bcycl_od_statnhm_202304/tpss_bcycl_od_statnhm_20230417.csv  \n",
            "  inflating: tpss_bcycl_od_statnhm_202304/tpss_bcycl_od_statnhm_20230418.csv  \n",
            "  inflating: tpss_bcycl_od_statnhm_202304/tpss_bcycl_od_statnhm_20230419.csv  \n",
            "  inflating: tpss_bcycl_od_statnhm_202304/tpss_bcycl_od_statnhm_20230420.csv  \n",
            "  inflating: tpss_bcycl_od_statnhm_202304/tpss_bcycl_od_statnhm_20230421.csv  \n",
            "  inflating: tpss_bcycl_od_statnhm_202304/tpss_bcycl_od_statnhm_20230422.csv  \n",
            "  inflating: tpss_bcycl_od_statnhm_202304/tpss_bcycl_od_statnhm_20230423.csv  \n",
            "  inflating: tpss_bcycl_od_statnhm_202304/tpss_bcycl_od_statnhm_20230424.csv  \n",
            "  inflating: tpss_bcycl_od_statnhm_202304/tpss_bcycl_od_statnhm_20230425.csv  \n",
            "  inflating: tpss_bcycl_od_statnhm_202304/tpss_bcycl_od_statnhm_20230426.csv  \n",
            "  inflating: tpss_bcycl_od_statnhm_202304/tpss_bcycl_od_statnhm_20230427.csv  \n",
            "  inflating: tpss_bcycl_od_statnhm_202304/tpss_bcycl_od_statnhm_20230428.csv  \n",
            "  inflating: tpss_bcycl_od_statnhm_202304/tpss_bcycl_od_statnhm_20230429.csv  \n",
            "  inflating: tpss_bcycl_od_statnhm_202304/tpss_bcycl_od_statnhm_20230430.csv  \n"
          ]
        }
      ]
    },
    {
      "cell_type": "markdown",
      "source": [
        "## 12-2 CSV 형태의 데이터 수집"
      ],
      "metadata": {
        "id": "mBY1ywBTfQdD"
      }
    },
    {
      "cell_type": "code",
      "execution_count": 8,
      "metadata": {
        "id": "7jjkoE6h-TJs",
        "colab": {
          "base_uri": "https://localhost:8080/",
          "height": 310
        },
        "outputId": "2e158c94-37cc-4c1f-e97c-3baa4682232e"
      },
      "outputs": [
        {
          "output_type": "execute_result",
          "data": {
            "text/plain": [
              "      기준_날짜 집계_기준  기준_시간대 시작_대여소_ID            시작_대여소명 종료_대여소_ID  \\\n",
              "0  20230409  출발시간       0   ST-1184          수서동_025_1   ST-1184   \n",
              "1  20230409  출발시간       0   ST-1375         상봉2동_002_3   ST-1375   \n",
              "2  20230409  출발시간       0    ST-150  종로1·2·3·4가동_010_1    ST-150   \n",
              "3  20230409  출발시간       0   ST-1705         잠실2동_066_1   ST-1705   \n",
              "4  20230409  출발시간       0    ST-254         구의3동_028_3    ST-254   \n",
              "\n",
              "             종료_대여소명  전체_건수  전체_이용_분  전체_이용_거리  \n",
              "0          수서동_025_1      1        1         0  \n",
              "1         상봉2동_002_3      1        0        88  \n",
              "2  종로1·2·3·4가동_010_1      1        0         0  \n",
              "3         잠실2동_066_1      1        0         0  \n",
              "4         구의3동_028_3      1        0         0  "
            ],
            "text/html": [
              "\n",
              "  <div id=\"df-bc1342dc-9e69-4132-a21d-e887e7403e19\" class=\"colab-df-container\">\n",
              "    <div>\n",
              "<style scoped>\n",
              "    .dataframe tbody tr th:only-of-type {\n",
              "        vertical-align: middle;\n",
              "    }\n",
              "\n",
              "    .dataframe tbody tr th {\n",
              "        vertical-align: top;\n",
              "    }\n",
              "\n",
              "    .dataframe thead th {\n",
              "        text-align: right;\n",
              "    }\n",
              "</style>\n",
              "<table border=\"1\" class=\"dataframe\">\n",
              "  <thead>\n",
              "    <tr style=\"text-align: right;\">\n",
              "      <th></th>\n",
              "      <th>기준_날짜</th>\n",
              "      <th>집계_기준</th>\n",
              "      <th>기준_시간대</th>\n",
              "      <th>시작_대여소_ID</th>\n",
              "      <th>시작_대여소명</th>\n",
              "      <th>종료_대여소_ID</th>\n",
              "      <th>종료_대여소명</th>\n",
              "      <th>전체_건수</th>\n",
              "      <th>전체_이용_분</th>\n",
              "      <th>전체_이용_거리</th>\n",
              "    </tr>\n",
              "  </thead>\n",
              "  <tbody>\n",
              "    <tr>\n",
              "      <th>0</th>\n",
              "      <td>20230409</td>\n",
              "      <td>출발시간</td>\n",
              "      <td>0</td>\n",
              "      <td>ST-1184</td>\n",
              "      <td>수서동_025_1</td>\n",
              "      <td>ST-1184</td>\n",
              "      <td>수서동_025_1</td>\n",
              "      <td>1</td>\n",
              "      <td>1</td>\n",
              "      <td>0</td>\n",
              "    </tr>\n",
              "    <tr>\n",
              "      <th>1</th>\n",
              "      <td>20230409</td>\n",
              "      <td>출발시간</td>\n",
              "      <td>0</td>\n",
              "      <td>ST-1375</td>\n",
              "      <td>상봉2동_002_3</td>\n",
              "      <td>ST-1375</td>\n",
              "      <td>상봉2동_002_3</td>\n",
              "      <td>1</td>\n",
              "      <td>0</td>\n",
              "      <td>88</td>\n",
              "    </tr>\n",
              "    <tr>\n",
              "      <th>2</th>\n",
              "      <td>20230409</td>\n",
              "      <td>출발시간</td>\n",
              "      <td>0</td>\n",
              "      <td>ST-150</td>\n",
              "      <td>종로1·2·3·4가동_010_1</td>\n",
              "      <td>ST-150</td>\n",
              "      <td>종로1·2·3·4가동_010_1</td>\n",
              "      <td>1</td>\n",
              "      <td>0</td>\n",
              "      <td>0</td>\n",
              "    </tr>\n",
              "    <tr>\n",
              "      <th>3</th>\n",
              "      <td>20230409</td>\n",
              "      <td>출발시간</td>\n",
              "      <td>0</td>\n",
              "      <td>ST-1705</td>\n",
              "      <td>잠실2동_066_1</td>\n",
              "      <td>ST-1705</td>\n",
              "      <td>잠실2동_066_1</td>\n",
              "      <td>1</td>\n",
              "      <td>0</td>\n",
              "      <td>0</td>\n",
              "    </tr>\n",
              "    <tr>\n",
              "      <th>4</th>\n",
              "      <td>20230409</td>\n",
              "      <td>출발시간</td>\n",
              "      <td>0</td>\n",
              "      <td>ST-254</td>\n",
              "      <td>구의3동_028_3</td>\n",
              "      <td>ST-254</td>\n",
              "      <td>구의3동_028_3</td>\n",
              "      <td>1</td>\n",
              "      <td>0</td>\n",
              "      <td>0</td>\n",
              "    </tr>\n",
              "  </tbody>\n",
              "</table>\n",
              "</div>\n",
              "    <div class=\"colab-df-buttons\">\n",
              "\n",
              "  <div class=\"colab-df-container\">\n",
              "    <button class=\"colab-df-convert\" onclick=\"convertToInteractive('df-bc1342dc-9e69-4132-a21d-e887e7403e19')\"\n",
              "            title=\"Convert this dataframe to an interactive table.\"\n",
              "            style=\"display:none;\">\n",
              "\n",
              "  <svg xmlns=\"http://www.w3.org/2000/svg\" height=\"24px\" viewBox=\"0 -960 960 960\">\n",
              "    <path d=\"M120-120v-720h720v720H120Zm60-500h600v-160H180v160Zm220 220h160v-160H400v160Zm0 220h160v-160H400v160ZM180-400h160v-160H180v160Zm440 0h160v-160H620v160ZM180-180h160v-160H180v160Zm440 0h160v-160H620v160Z\"/>\n",
              "  </svg>\n",
              "    </button>\n",
              "\n",
              "  <style>\n",
              "    .colab-df-container {\n",
              "      display:flex;\n",
              "      gap: 12px;\n",
              "    }\n",
              "\n",
              "    .colab-df-convert {\n",
              "      background-color: #E8F0FE;\n",
              "      border: none;\n",
              "      border-radius: 50%;\n",
              "      cursor: pointer;\n",
              "      display: none;\n",
              "      fill: #1967D2;\n",
              "      height: 32px;\n",
              "      padding: 0 0 0 0;\n",
              "      width: 32px;\n",
              "    }\n",
              "\n",
              "    .colab-df-convert:hover {\n",
              "      background-color: #E2EBFA;\n",
              "      box-shadow: 0px 1px 2px rgba(60, 64, 67, 0.3), 0px 1px 3px 1px rgba(60, 64, 67, 0.15);\n",
              "      fill: #174EA6;\n",
              "    }\n",
              "\n",
              "    .colab-df-buttons div {\n",
              "      margin-bottom: 4px;\n",
              "    }\n",
              "\n",
              "    [theme=dark] .colab-df-convert {\n",
              "      background-color: #3B4455;\n",
              "      fill: #D2E3FC;\n",
              "    }\n",
              "\n",
              "    [theme=dark] .colab-df-convert:hover {\n",
              "      background-color: #434B5C;\n",
              "      box-shadow: 0px 1px 3px 1px rgba(0, 0, 0, 0.15);\n",
              "      filter: drop-shadow(0px 1px 2px rgba(0, 0, 0, 0.3));\n",
              "      fill: #FFFFFF;\n",
              "    }\n",
              "  </style>\n",
              "\n",
              "    <script>\n",
              "      const buttonEl =\n",
              "        document.querySelector('#df-bc1342dc-9e69-4132-a21d-e887e7403e19 button.colab-df-convert');\n",
              "      buttonEl.style.display =\n",
              "        google.colab.kernel.accessAllowed ? 'block' : 'none';\n",
              "\n",
              "      async function convertToInteractive(key) {\n",
              "        const element = document.querySelector('#df-bc1342dc-9e69-4132-a21d-e887e7403e19');\n",
              "        const dataTable =\n",
              "          await google.colab.kernel.invokeFunction('convertToInteractive',\n",
              "                                                    [key], {});\n",
              "        if (!dataTable) return;\n",
              "\n",
              "        const docLinkHtml = 'Like what you see? Visit the ' +\n",
              "          '<a target=\"_blank\" href=https://colab.research.google.com/notebooks/data_table.ipynb>data table notebook</a>'\n",
              "          + ' to learn more about interactive tables.';\n",
              "        element.innerHTML = '';\n",
              "        dataTable['output_type'] = 'display_data';\n",
              "        await google.colab.output.renderOutput(dataTable, element);\n",
              "        const docLink = document.createElement('div');\n",
              "        docLink.innerHTML = docLinkHtml;\n",
              "        element.appendChild(docLink);\n",
              "      }\n",
              "    </script>\n",
              "  </div>\n",
              "\n",
              "\n",
              "    <div id=\"df-984e874a-9698-4dce-85f0-676494cac4a2\">\n",
              "      <button class=\"colab-df-quickchart\" onclick=\"quickchart('df-984e874a-9698-4dce-85f0-676494cac4a2')\"\n",
              "                title=\"Suggest charts\"\n",
              "                style=\"display:none;\">\n",
              "\n",
              "<svg xmlns=\"http://www.w3.org/2000/svg\" height=\"24px\"viewBox=\"0 0 24 24\"\n",
              "     width=\"24px\">\n",
              "    <g>\n",
              "        <path d=\"M19 3H5c-1.1 0-2 .9-2 2v14c0 1.1.9 2 2 2h14c1.1 0 2-.9 2-2V5c0-1.1-.9-2-2-2zM9 17H7v-7h2v7zm4 0h-2V7h2v10zm4 0h-2v-4h2v4z\"/>\n",
              "    </g>\n",
              "</svg>\n",
              "      </button>\n",
              "\n",
              "<style>\n",
              "  .colab-df-quickchart {\n",
              "      --bg-color: #E8F0FE;\n",
              "      --fill-color: #1967D2;\n",
              "      --hover-bg-color: #E2EBFA;\n",
              "      --hover-fill-color: #174EA6;\n",
              "      --disabled-fill-color: #AAA;\n",
              "      --disabled-bg-color: #DDD;\n",
              "  }\n",
              "\n",
              "  [theme=dark] .colab-df-quickchart {\n",
              "      --bg-color: #3B4455;\n",
              "      --fill-color: #D2E3FC;\n",
              "      --hover-bg-color: #434B5C;\n",
              "      --hover-fill-color: #FFFFFF;\n",
              "      --disabled-bg-color: #3B4455;\n",
              "      --disabled-fill-color: #666;\n",
              "  }\n",
              "\n",
              "  .colab-df-quickchart {\n",
              "    background-color: var(--bg-color);\n",
              "    border: none;\n",
              "    border-radius: 50%;\n",
              "    cursor: pointer;\n",
              "    display: none;\n",
              "    fill: var(--fill-color);\n",
              "    height: 32px;\n",
              "    padding: 0;\n",
              "    width: 32px;\n",
              "  }\n",
              "\n",
              "  .colab-df-quickchart:hover {\n",
              "    background-color: var(--hover-bg-color);\n",
              "    box-shadow: 0 1px 2px rgba(60, 64, 67, 0.3), 0 1px 3px 1px rgba(60, 64, 67, 0.15);\n",
              "    fill: var(--button-hover-fill-color);\n",
              "  }\n",
              "\n",
              "  .colab-df-quickchart-complete:disabled,\n",
              "  .colab-df-quickchart-complete:disabled:hover {\n",
              "    background-color: var(--disabled-bg-color);\n",
              "    fill: var(--disabled-fill-color);\n",
              "    box-shadow: none;\n",
              "  }\n",
              "\n",
              "  .colab-df-spinner {\n",
              "    border: 2px solid var(--fill-color);\n",
              "    border-color: transparent;\n",
              "    border-bottom-color: var(--fill-color);\n",
              "    animation:\n",
              "      spin 1s steps(1) infinite;\n",
              "  }\n",
              "\n",
              "  @keyframes spin {\n",
              "    0% {\n",
              "      border-color: transparent;\n",
              "      border-bottom-color: var(--fill-color);\n",
              "      border-left-color: var(--fill-color);\n",
              "    }\n",
              "    20% {\n",
              "      border-color: transparent;\n",
              "      border-left-color: var(--fill-color);\n",
              "      border-top-color: var(--fill-color);\n",
              "    }\n",
              "    30% {\n",
              "      border-color: transparent;\n",
              "      border-left-color: var(--fill-color);\n",
              "      border-top-color: var(--fill-color);\n",
              "      border-right-color: var(--fill-color);\n",
              "    }\n",
              "    40% {\n",
              "      border-color: transparent;\n",
              "      border-right-color: var(--fill-color);\n",
              "      border-top-color: var(--fill-color);\n",
              "    }\n",
              "    60% {\n",
              "      border-color: transparent;\n",
              "      border-right-color: var(--fill-color);\n",
              "    }\n",
              "    80% {\n",
              "      border-color: transparent;\n",
              "      border-right-color: var(--fill-color);\n",
              "      border-bottom-color: var(--fill-color);\n",
              "    }\n",
              "    90% {\n",
              "      border-color: transparent;\n",
              "      border-bottom-color: var(--fill-color);\n",
              "    }\n",
              "  }\n",
              "</style>\n",
              "\n",
              "      <script>\n",
              "        async function quickchart(key) {\n",
              "          const quickchartButtonEl =\n",
              "            document.querySelector('#' + key + ' button');\n",
              "          quickchartButtonEl.disabled = true;  // To prevent multiple clicks.\n",
              "          quickchartButtonEl.classList.add('colab-df-spinner');\n",
              "          try {\n",
              "            const charts = await google.colab.kernel.invokeFunction(\n",
              "                'suggestCharts', [key], {});\n",
              "          } catch (error) {\n",
              "            console.error('Error during call to suggestCharts:', error);\n",
              "          }\n",
              "          quickchartButtonEl.classList.remove('colab-df-spinner');\n",
              "          quickchartButtonEl.classList.add('colab-df-quickchart-complete');\n",
              "        }\n",
              "        (() => {\n",
              "          let quickchartButtonEl =\n",
              "            document.querySelector('#df-984e874a-9698-4dce-85f0-676494cac4a2 button');\n",
              "          quickchartButtonEl.style.display =\n",
              "            google.colab.kernel.accessAllowed ? 'block' : 'none';\n",
              "        })();\n",
              "      </script>\n",
              "    </div>\n",
              "\n",
              "    </div>\n",
              "  </div>\n"
            ],
            "application/vnd.google.colaboratory.intrinsic+json": {
              "type": "dataframe",
              "variable_name": "df"
            }
          },
          "metadata": {},
          "execution_count": 8
        }
      ],
      "source": [
        "import glob\n",
        "import pandas as pd\n",
        "\n",
        "## CSV 파일 목록 가져오기\n",
        "all_files = glob.glob(\"tpss_bcycl_od_statnhm_202304/*.csv\")\n",
        "dataframes = []\n",
        "for filename in all_files:\n",
        "    ## CSV 파일 읽어서 데이터프레임화\n",
        "    df = pd.read_csv(filename, encoding='cp949')\n",
        "\n",
        "    dataframes.append(df)\n",
        "## 모든 데이터프레임 결합\n",
        "df = pd.concat(dataframes, axis=0, ignore_index=True)\n",
        "## 상위 5행 출력\n",
        "df.head(5)"
      ]
    },
    {
      "cell_type": "markdown",
      "source": [
        "## 12-3 기초 통계량 산출"
      ],
      "metadata": {
        "id": "pGV2kMLehS0A"
      }
    },
    {
      "cell_type": "code",
      "source": [
        "## 수치형 데이터 요약 통계 출력\n",
        "print(\"수치형 데이터 요약 통계:\\n\", df.describe().to_markdown())\n",
        "## 범주형 데이터 요약 통계 출력\n",
        "print(\"범주형 데이터 요약 통계:\\n\", df.describe(include=['object']).to_markdown())\n",
        "\n",
        "# 요약 통게를 통해서 집계 기준을 출발기준과 도착기준 둘 중 하나를 선택해야 하고,\n",
        "# 전체 이용 분의 이상치들을 제거해야 됨을 알 수 있음"
      ],
      "metadata": {
        "id": "HyFk8Gry-VpH",
        "colab": {
          "base_uri": "https://localhost:8080/"
        },
        "outputId": "4e8bab65-064a-44d3-bc8b-2a99f7b3fe2a"
      },
      "execution_count": 10,
      "outputs": [
        {
          "output_type": "stream",
          "name": "stdout",
          "text": [
            "수치형 데이터 요약 통계:\n",
            " |       |   기준_날짜 |    기준_시간대 |    전체_건수 |   전체_이용_분 |   전체_이용_거리 |\n",
            "|:------|------------:|---------------:|-------------:|---------------:|-----------------:|\n",
            "| count | 7.76947e+06 |    7.76947e+06 |  7.76947e+06 |    7.76947e+06 |      7.76947e+06 |\n",
            "| mean  | 2.02304e+07 | 1451.5         |  1.07513     |   22.9326      |   2704.27        |\n",
            "| std   | 8.52204     |  561.131       |  0.309264    |   31.5494      |  11951.9         |\n",
            "| min   | 2.02304e+07 |    0           |  1           |    0           |      0           |\n",
            "| 25%   | 2.02304e+07 | 1020           |  1           |    6           |    854           |\n",
            "| 50%   | 2.02304e+07 | 1600           |  1           |   12           |   1551           |\n",
            "| 75%   | 2.02304e+07 | 1855           |  1           |   27           |   2990           |\n",
            "| max   | 2.02304e+07 | 2355           | 17           | 2001           |      1.29444e+07 |\n",
            "범주형 데이터 요약 통계:\n",
            " |        | 집계_기준   | 시작_대여소_ID   | 시작_대여소명   | 종료_대여소_ID   | 종료_대여소명   |\n",
            "|:-------|:------------|:-----------------|:----------------|:-----------------|:----------------|\n",
            "| count  | 7769469     | 7769469          | 7769469         | 7769469          | 7737347         |\n",
            "| unique | 2           | 2729             | 2733            | 2730             | 2732            |\n",
            "| top    | 출발시간    | ST-2031          | 가양1동_039_8   | X                | 가양1동_039_8   |\n",
            "| freq   | 3897362     | 27016            | 27016           | 32122            | 28092           |\n"
          ]
        }
      ]
    },
    {
      "cell_type": "markdown",
      "source": [
        "## 12-4 결측치 및 이상치 제거"
      ],
      "metadata": {
        "id": "Thr9L43ShZcY"
      }
    },
    {
      "cell_type": "code",
      "source": [
        "## 결측치 제거\n",
        "df = df.dropna()\n",
        "## '전체_이용_분' 컬럼 값 필터링 (1분 이하, 180분 이상 제거)\n",
        "df = df[(df['전체_이용_분'] > 1) & (df['전체_이용_분'] < 180)]\n",
        "## '전체_이용_거리' 컬럼 값 필터링 (10M 이하, 10000M 이상 제거)\n",
        "df = df[(df['전체_이용_거리'] > 10) & (df['전체_이용_거리'] < 10000)]\n",
        "## '집계_기준' 컬럼 필터링 (출발시간만 사용)\n",
        "df = df[(df['집계_기준']) == '출발시간']"
      ],
      "metadata": {
        "id": "fJRGIq2N-XLc"
      },
      "execution_count": 11,
      "outputs": []
    },
    {
      "cell_type": "code",
      "source": [
        "## 수치형 데이터 요약 통계 출력\n",
        "print(\"수치형 데이터 요약 통계:\\n\", df.describe().to_markdown())\n",
        "## 범주형 데이터 요약 통계 출력\n",
        "print(\"범주형 데이터 요약 통계:\\n\", df.describe(include=['object']).to_markdown())"
      ],
      "metadata": {
        "id": "pdU-jlKT47xF",
        "outputId": "dde7ea7f-d156-45f9-9610-ca8ed2a44ddf",
        "colab": {
          "base_uri": "https://localhost:8080/"
        }
      },
      "execution_count": 12,
      "outputs": [
        {
          "output_type": "stream",
          "name": "stdout",
          "text": [
            "수치형 데이터 요약 통계:\n",
            " |       |   기준_날짜 |    기준_시간대 |    전체_건수 |   전체_이용_분 |   전체_이용_거리 |\n",
            "|:------|------------:|---------------:|-------------:|---------------:|-----------------:|\n",
            "| count | 3.50916e+06 |    3.50916e+06 |  3.50916e+06 |    3.50916e+06 |      3.50916e+06 |\n",
            "| mean  | 2.02304e+07 | 1431.14        |  1.05698     |   19.996       |   2225.55        |\n",
            "| std   | 8.49064     |  561.472       |  0.256897    |   21.9924      |   1901.81        |\n",
            "| min   | 2.02304e+07 |    0           |  1           |    2           |     11           |\n",
            "| 25%   | 2.02304e+07 | 1000           |  1           |    6           |    930           |\n",
            "| 50%   | 2.02304e+07 | 1545           |  1           |   12           |   1579           |\n",
            "| 75%   | 2.02304e+07 | 1845           |  1           |   25           |   2820           |\n",
            "| max   | 2.02304e+07 | 2355           | 13           |  179           |   9999           |\n",
            "범주형 데이터 요약 통계:\n",
            " |        | 집계_기준   | 시작_대여소_ID   | 시작_대여소명   | 종료_대여소_ID   | 종료_대여소명   |\n",
            "|:-------|:------------|:-----------------|:----------------|:-----------------|:----------------|\n",
            "| count  | 3509164     | 3509164          | 3509164         | 3509164          | 3509164         |\n",
            "| unique | 1           | 2726             | 2730            | 2724             | 2728            |\n",
            "| top    | 출발시간    | ST-2031          | 가양1동_039_8   | ST-2031          | 가양1동_039_8   |\n",
            "| freq   | 3509164     | 12719            | 12719           | 13346            | 13346           |\n"
          ]
        }
      ]
    },
    {
      "cell_type": "markdown",
      "source": [
        "## 12-5 날짜/시간 데이터 형식 변환"
      ],
      "metadata": {
        "id": "aWeXyEB-h5dA"
      }
    },
    {
      "cell_type": "code",
      "source": [
        "## '기준_날짜' 컬럼 datetime 형식으로 변환 (%Y%m%d)\n",
        "df['기준_날짜'] = pd.to_datetime(df['기준_날짜'], format='%Y%m%d')\n",
        "## '요일' 컬럼 생성\n",
        "day_mapping = {\n",
        "    'Monday': '월요일',\n",
        "    'Tuesday': '화요일',\n",
        "    'Wednesday': '수요일',\n",
        "    'Thursday': '목요일',\n",
        "    'Friday': '금요일',\n",
        "    'Saturday': '토요일',\n",
        "    'Sunday': '일요일'\n",
        "}\n",
        "df['요일'] = df['기준_날짜'].dt.day_name().map(day_mapping)"
      ],
      "metadata": {
        "id": "4UsXZZVa-Zps"
      },
      "execution_count": 13,
      "outputs": []
    },
    {
      "cell_type": "markdown",
      "source": [
        "## 전처리 결과 확인"
      ],
      "metadata": {
        "id": "qEYjnQmVoBXx"
      }
    },
    {
      "cell_type": "code",
      "source": [
        "## 수치형 데이터 요약 통계 출력\n",
        "print(\"수치형 데이터 요약 통계:\\n\", df.describe().to_markdown())\n",
        "## 범주형 데이터 요약 통계 출력\n",
        "print(\"\\n범주형 데이터 요약 통계:\\n\", df.describe(include=['object']).to_markdown())"
      ],
      "metadata": {
        "id": "3XX8cDDAoDC8",
        "colab": {
          "base_uri": "https://localhost:8080/"
        },
        "outputId": "ac51077d-450c-45af-e344-60a92ab0959d"
      },
      "execution_count": 14,
      "outputs": [
        {
          "output_type": "stream",
          "name": "stdout",
          "text": [
            "수치형 데이터 요약 통계:\n",
            " |       | 기준_날짜                     |    기준_시간대 |    전체_건수 |   전체_이용_분 |   전체_이용_거리 |\n",
            "|:------|:------------------------------|---------------:|-------------:|---------------:|-----------------:|\n",
            "| count | 3509164                       |    3.50916e+06 |  3.50916e+06 |    3.50916e+06 |      3.50916e+06 |\n",
            "| mean  | 2023-04-15 16:06:59.898981888 | 1431.14        |  1.05698     |   19.996       |   2225.55        |\n",
            "| min   | 2023-04-01 00:00:00           |    0           |  1           |    2           |     11           |\n",
            "| 25%   | 2023-04-09 00:00:00           | 1000           |  1           |    6           |    930           |\n",
            "| 50%   | 2023-04-16 00:00:00           | 1545           |  1           |   12           |   1579           |\n",
            "| 75%   | 2023-04-23 00:00:00           | 1845           |  1           |   25           |   2820           |\n",
            "| max   | 2023-04-30 00:00:00           | 2355           | 13           |  179           |   9999           |\n",
            "| std   | nan                           |  561.472       |  0.256897    |   21.9924      |   1901.81        |\n",
            "\n",
            "범주형 데이터 요약 통계:\n",
            " |        | 집계_기준   | 시작_대여소_ID   | 시작_대여소명   | 종료_대여소_ID   | 종료_대여소명   | 요일    |\n",
            "|:-------|:------------|:-----------------|:----------------|:-----------------|:----------------|:--------|\n",
            "| count  | 3509164     | 3509164          | 3509164         | 3509164          | 3509164         | 3509164 |\n",
            "| unique | 1           | 2726             | 2730            | 2724             | 2728            | 7       |\n",
            "| top    | 출발시간    | ST-2031          | 가양1동_039_8   | ST-2031          | 가양1동_039_8   | 월요일  |\n",
            "| freq   | 3509164     | 12719            | 12719           | 13346            | 13346           | 594326  |\n"
          ]
        }
      ]
    },
    {
      "cell_type": "markdown",
      "source": [
        "# 2. 데이터 분석"
      ],
      "metadata": {
        "id": "iSQra0QGmR09"
      }
    },
    {
      "cell_type": "markdown",
      "source": [
        "## 12-6 요일별 이용량 분석"
      ],
      "metadata": {
        "id": "8OPIRXDMmZom"
      }
    },
    {
      "cell_type": "code",
      "source": [
        "## 요일별 이용량 계산 및 정렬\n",
        "day_df = df['요일'].value_counts().reindex(day_mapping.values())\n",
        "## 요일별 이용량 출력\n",
        "print(\"요일별 이용량:\\n\", day_df)"
      ],
      "metadata": {
        "id": "9u1beOH7iEFO",
        "colab": {
          "base_uri": "https://localhost:8080/"
        },
        "outputId": "065a3ce6-29bb-4e2b-bccb-76169157de82"
      },
      "execution_count": 15,
      "outputs": [
        {
          "output_type": "stream",
          "name": "stdout",
          "text": [
            "요일별 이용량:\n",
            " 요일\n",
            "월요일    594326\n",
            "화요일    392770\n",
            "수요일    446734\n",
            "목요일    479264\n",
            "금요일    574477\n",
            "토요일    493995\n",
            "일요일    527598\n",
            "Name: count, dtype: int64\n"
          ]
        }
      ]
    },
    {
      "cell_type": "markdown",
      "source": [
        "## 12-7 요일별 이용량 시각화"
      ],
      "metadata": {
        "id": "9rm8rfc2nApd"
      }
    },
    {
      "cell_type": "code",
      "source": [
        "import matplotlib.pyplot as plt\n",
        "\n",
        "## 요일별 이용량 막대 그래프 생성\n",
        "plt.bar(day_df.index, day_df.values)\n",
        "plt.title('요일별 이용량')\n",
        "plt.xlabel('요일')\n",
        "plt.ylabel('이용량')\n",
        "plt.show()"
      ],
      "metadata": {
        "id": "2YTL201E-bOk",
        "colab": {
          "base_uri": "https://localhost:8080/",
          "height": 471
        },
        "outputId": "ae6cd5c8-153c-4543-cd60-a07a984961ca"
      },
      "execution_count": 16,
      "outputs": [
        {
          "output_type": "display_data",
          "data": {
            "text/plain": [
              "<Figure size 640x480 with 1 Axes>"
            ],
            "image/png": "[encoded data removed]"
          },
          "metadata": {}
        }
      ]
    },
    {
      "cell_type": "code",
      "source": [
        "## Dataframe의 plot을 이용한 요일별 이용량 막대 그래프 생성\n",
        "day_df.plot(kind='bar')\n",
        "plt.show()"
      ],
      "metadata": {
        "id": "1D3QdpSpnWzK",
        "colab": {
          "base_uri": "https://localhost:8080/",
          "height": 473
        },
        "outputId": "cd3fc6a5-dcf4-43df-b341-7f0388563260"
      },
      "execution_count": 17,
      "outputs": [
        {
          "output_type": "display_data",
          "data": {
            "text/plain": [
              "<Figure size 640x480 with 1 Axes>"
            ],
            "image/png": "[encoded data removed]"
          },
          "metadata": {}
        }
      ]
    },
    {
      "cell_type": "markdown",
      "source": [
        "## 12-8 시간별 이용량 분석 및 시각화"
      ],
      "metadata": {
        "id": "SrTThRtknQhJ"
      }
    },
    {
      "cell_type": "code",
      "source": [
        "## '출발_시' 컬럼 생성 (기준_시간대 // 100)\n",
        "df['출발_시'] = df['기준_시간대'] // 100\n",
        "## 시간별 이용량 계산 및 정렬 (hour_df로 저장)\n",
        "hour_df = df['출발_시'].value_counts().sort_index()\n",
        "## 시간별 이용량 출력\n",
        "print(\"시간별 이용량:\\n\", hour_df)\n",
        "\n",
        "## 시간별 이용량 막대 그래프 생성\n",
        "hour_df.plot(kind='bar')\n",
        "plt.show()"
      ],
      "metadata": {
        "id": "rh5XUH2i-epE",
        "colab": {
          "base_uri": "https://localhost:8080/",
          "height": 921
        },
        "outputId": "9de4454a-2207-421a-dfa4-4960da3b78fb"
      },
      "execution_count": 18,
      "outputs": [
        {
          "output_type": "stream",
          "name": "stdout",
          "text": [
            "시간별 이용량:\n",
            " 출발_시\n",
            "0      77131\n",
            "1      53708\n",
            "2      34328\n",
            "3      22495\n",
            "4      17385\n",
            "5      29296\n",
            "6      64312\n",
            "7     165864\n",
            "8     253707\n",
            "9     151306\n",
            "10    118393\n",
            "11    137690\n",
            "12    155120\n",
            "13    159231\n",
            "14    167815\n",
            "15    190808\n",
            "16    236420\n",
            "17    302526\n",
            "18    363200\n",
            "19    232469\n",
            "20    184630\n",
            "21    170912\n",
            "22    146139\n",
            "23     74279\n",
            "Name: count, dtype: int64\n"
          ]
        },
        {
          "output_type": "display_data",
          "data": {
            "text/plain": [
              "<Figure size 640x480 with 1 Axes>"
            ],
            "image/png": "[encoded data removed]"
          },
          "metadata": {}
        }
      ]
    },
    {
      "cell_type": "markdown",
      "source": [
        "## 12-9 일자별 이용량 분석 및 시각화"
      ],
      "metadata": {
        "id": "MCesHLfcnyZ2"
      }
    },
    {
      "cell_type": "code",
      "source": [
        "## 일자별 이용량 계산 및 정렬\n",
        "daily_usage_df = df['기준_날짜'].value_counts().sort_index()\n",
        "## 일자별 이용량 출력\n",
        "print(\"일자별 이용량:\\n\", daily_usage_df)\n",
        "\n",
        "## 일자별 이용량 막대 그래프 생성\n",
        "daily_usage_df.plot(kind='bar')\n",
        "plt.show()"
      ],
      "metadata": {
        "id": "FBGzRjUW-gky",
        "colab": {
          "base_uri": "https://localhost:8080/",
          "height": 1000
        },
        "outputId": "55060f67-259e-4631-c50d-88fee5e59a13"
      },
      "execution_count": 19,
      "outputs": [
        {
          "output_type": "stream",
          "name": "stdout",
          "text": [
            "일자별 이용량:\n",
            " 기준_날짜\n",
            "2023-04-01    131255\n",
            "2023-04-02    127850\n",
            "2023-04-03    155558\n",
            "2023-04-04    122686\n",
            "2023-04-05     21328\n",
            "2023-04-06     56926\n",
            "2023-04-07    125145\n",
            "2023-04-08    108558\n",
            "2023-04-09    103952\n",
            "2023-04-10    144229\n",
            "2023-04-11     95607\n",
            "2023-04-12    129586\n",
            "2023-04-13    133656\n",
            "2023-04-14    147609\n",
            "2023-04-15     82234\n",
            "2023-04-16     93039\n",
            "2023-04-17    143149\n",
            "2023-04-18     94659\n",
            "2023-04-19    158345\n",
            "2023-04-20    134882\n",
            "2023-04-21    155445\n",
            "2023-04-22    128175\n",
            "2023-04-23    112186\n",
            "2023-04-24    151390\n",
            "2023-04-25     79818\n",
            "2023-04-26    137475\n",
            "2023-04-27    153800\n",
            "2023-04-28    146278\n",
            "2023-04-29     43773\n",
            "2023-04-30     90571\n",
            "Name: count, dtype: int64\n"
          ]
        },
        {
          "output_type": "display_data",
          "data": {
            "text/plain": [
              "<Figure size 640x480 with 1 Axes>"
            ],
            "image/png": "[encoded data removed]"
          },
          "metadata": {}
        }
      ]
    },
    {
      "cell_type": "markdown",
      "source": [
        "# 3. 연계 분석\n",
        "\n",
        "- 기상청 기상자료개방포탈 자료 수집\n",
        "  - 기후통계분석 > 통계분석 > 조건별통계\n",
        "  - https://data.kma.go.kr/climate/RankState/selectRankStatisticsDivisionList.do?pgmNo=179\n",
        "  - 지역/지점 : 서울\n",
        "  - 요소 : 강수량\n",
        "  - 기간 : 일, 2023년 ~ 2023년\n",
        "  - 조건 : 04월, 01 ~ 31일\n",
        "- 다운로드 후 파일명 `seoul_rain_2023_04.csv`로 변경하여 colab에 업로드"
      ],
      "metadata": {
        "id": "Ry_x0v7voNji"
      }
    },
    {
      "cell_type": "markdown",
      "source": [
        "## 12-10 강수량 데이터 로드"
      ],
      "metadata": {
        "id": "7H4slHEnpY2U"
      }
    },
    {
      "cell_type": "code",
      "source": [
        "## 강수량 데이터 CSV 파일 로드\n",
        "file_path = 'seoul_rain_2023_04.csv'\n",
        "rain_df = pd.read_csv(file_path, encoding='cp949', skiprows=12) # 헤더데이터 제외\n",
        "rain_df.head(5)"
      ],
      "metadata": {
        "id": "qJLVSTEM-kgi",
        "colab": {
          "base_uri": "https://localhost:8080/",
          "height": 261
        },
        "outputId": "52b51459-65a5-4a0b-f366-65c438931bae"
      },
      "execution_count": 20,
      "outputs": [
        {
          "output_type": "stream",
          "name": "stderr",
          "text": [
            "/usr/local/lib/python3.12/dist-packages/google/colab/_dataframe_summarizer.py:88: UserWarning: Could not infer format, so each element will be parsed individually, falling back to `dateutil`. To ensure parsing is consistent and as-expected, please specify a format.\n",
            "  cast_date_col = pd.to_datetime(column, errors=\"coerce\")\n"
          ]
        },
        {
          "output_type": "execute_result",
          "data": {
            "text/plain": [
              "   \\t지점번호 지점명          일시  강수량(mm)  1시간최다강수량(mm) 1시간최다강수량시각  Unnamed: 6\n",
              "0     108  서울  2023-04-01      NaN           NaN        NaN         NaN\n",
              "1     108  서울  2023-04-02      NaN           NaN        NaN         NaN\n",
              "2     108  서울  2023-04-03      NaN           NaN        NaN         NaN\n",
              "3     108  서울  2023-04-04      6.9           3.1      21:38         NaN\n",
              "4     108  서울  2023-04-05     50.3           9.0      12:10         NaN"
            ],
            "text/html": [
              "\n",
              "  <div id=\"df-9bb12012-c4ce-460b-9bb2-777e3c302225\" class=\"colab-df-container\">\n",
              "    <div>\n",
              "<style scoped>\n",
              "    .dataframe tbody tr th:only-of-type {\n",
              "        vertical-align: middle;\n",
              "    }\n",
              "\n",
              "    .dataframe tbody tr th {\n",
              "        vertical-align: top;\n",
              "    }\n",
              "\n",
              "    .dataframe thead th {\n",
              "        text-align: right;\n",
              "    }\n",
              "</style>\n",
              "<table border=\"1\" class=\"dataframe\">\n",
              "  <thead>\n",
              "    <tr style=\"text-align: right;\">\n",
              "      <th></th>\n",
              "      <th>\\t지점번호</th>\n",
              "      <th>지점명</th>\n",
              "      <th>일시</th>\n",
              "      <th>강수량(mm)</th>\n",
              "      <th>1시간최다강수량(mm)</th>\n",
              "      <th>1시간최다강수량시각</th>\n",
              "      <th>Unnamed: 6</th>\n",
              "    </tr>\n",
              "  </thead>\n",
              "  <tbody>\n",
              "    <tr>\n",
              "      <th>0</th>\n",
              "      <td>108</td>\n",
              "      <td>서울</td>\n",
              "      <td>2023-04-01</td>\n",
              "      <td>NaN</td>\n",
              "      <td>NaN</td>\n",
              "      <td>NaN</td>\n",
              "      <td>NaN</td>\n",
              "    </tr>\n",
              "    <tr>\n",
              "      <th>1</th>\n",
              "      <td>108</td>\n",
              "      <td>서울</td>\n",
              "      <td>2023-04-02</td>\n",
              "      <td>NaN</td>\n",
              "      <td>NaN</td>\n",
              "      <td>NaN</td>\n",
              "      <td>NaN</td>\n",
              "    </tr>\n",
              "    <tr>\n",
              "      <th>2</th>\n",
              "      <td>108</td>\n",
              "      <td>서울</td>\n",
              "      <td>2023-04-03</td>\n",
              "      <td>NaN</td>\n",
              "      <td>NaN</td>\n",
              "      <td>NaN</td>\n",
              "      <td>NaN</td>\n",
              "    </tr>\n",
              "    <tr>\n",
              "      <th>3</th>\n",
              "      <td>108</td>\n",
              "      <td>서울</td>\n",
              "      <td>2023-04-04</td>\n",
              "      <td>6.9</td>\n",
              "      <td>3.1</td>\n",
              "      <td>21:38</td>\n",
              "      <td>NaN</td>\n",
              "    </tr>\n",
              "    <tr>\n",
              "      <th>4</th>\n",
              "      <td>108</td>\n",
              "      <td>서울</td>\n",
              "      <td>2023-04-05</td>\n",
              "      <td>50.3</td>\n",
              "      <td>9.0</td>\n",
              "      <td>12:10</td>\n",
              "      <td>NaN</td>\n",
              "    </tr>\n",
              "  </tbody>\n",
              "</table>\n",
              "</div>\n",
              "    <div class=\"colab-df-buttons\">\n",
              "\n",
              "  <div class=\"colab-df-container\">\n",
              "    <button class=\"colab-df-convert\" onclick=\"convertToInteractive('df-9bb12012-c4ce-460b-9bb2-777e3c302225')\"\n",
              "            title=\"Convert this dataframe to an interactive table.\"\n",
              "            style=\"display:none;\">\n",
              "\n",
              "  <svg xmlns=\"http://www.w3.org/2000/svg\" height=\"24px\" viewBox=\"0 -960 960 960\">\n",
              "    <path d=\"M120-120v-720h720v720H120Zm60-500h600v-160H180v160Zm220 220h160v-160H400v160Zm0 220h160v-160H400v160ZM180-400h160v-160H180v160Zm440 0h160v-160H620v160ZM180-180h160v-160H180v160Zm440 0h160v-160H620v160Z\"/>\n",
              "  </svg>\n",
              "    </button>\n",
              "\n",
              "  <style>\n",
              "    .colab-df-container {\n",
              "      display:flex;\n",
              "      gap: 12px;\n",
              "    }\n",
              "\n",
              "    .colab-df-convert {\n",
              "      background-color: #E8F0FE;\n",
              "      border: none;\n",
              "      border-radius: 50%;\n",
              "      cursor: pointer;\n",
              "      display: none;\n",
              "      fill: #1967D2;\n",
              "      height: 32px;\n",
              "      padding: 0 0 0 0;\n",
              "      width: 32px;\n",
              "    }\n",
              "\n",
              "    .colab-df-convert:hover {\n",
              "      background-color: #E2EBFA;\n",
              "      box-shadow: 0px 1px 2px rgba(60, 64, 67, 0.3), 0px 1px 3px 1px rgba(60, 64, 67, 0.15);\n",
              "      fill: #174EA6;\n",
              "    }\n",
              "\n",
              "    .colab-df-buttons div {\n",
              "      margin-bottom: 4px;\n",
              "    }\n",
              "\n",
              "    [theme=dark] .colab-df-convert {\n",
              "      background-color: #3B4455;\n",
              "      fill: #D2E3FC;\n",
              "    }\n",
              "\n",
              "    [theme=dark] .colab-df-convert:hover {\n",
              "      background-color: #434B5C;\n",
              "      box-shadow: 0px 1px 3px 1px rgba(0, 0, 0, 0.15);\n",
              "      filter: drop-shadow(0px 1px 2px rgba(0, 0, 0, 0.3));\n",
              "      fill: #FFFFFF;\n",
              "    }\n",
              "  </style>\n",
              "\n",
              "    <script>\n",
              "      const buttonEl =\n",
              "        document.querySelector('#df-9bb12012-c4ce-460b-9bb2-777e3c302225 button.colab-df-convert');\n",
              "      buttonEl.style.display =\n",
              "        google.colab.kernel.accessAllowed ? 'block' : 'none';\n",
              "\n",
              "      async function convertToInteractive(key) {\n",
              "        const element = document.querySelector('#df-9bb12012-c4ce-460b-9bb2-777e3c302225');\n",
              "        const dataTable =\n",
              "          await google.colab.kernel.invokeFunction('convertToInteractive',\n",
              "                                                    [key], {});\n",
              "        if (!dataTable) return;\n",
              "\n",
              "        const docLinkHtml = 'Like what you see? Visit the ' +\n",
              "          '<a target=\"_blank\" href=https://colab.research.google.com/notebooks/data_table.ipynb>data table notebook</a>'\n",
              "          + ' to learn more about interactive tables.';\n",
              "        element.innerHTML = '';\n",
              "        dataTable['output_type'] = 'display_data';\n",
              "        await google.colab.output.renderOutput(dataTable, element);\n",
              "        const docLink = document.createElement('div');\n",
              "        docLink.innerHTML = docLinkHtml;\n",
              "        element.appendChild(docLink);\n",
              "      }\n",
              "    </script>\n",
              "  </div>\n",
              "\n",
              "\n",
              "    <div id=\"df-cbb5d6b1-125c-409f-9df3-1107c7d3d05f\">\n",
              "      <button class=\"colab-df-quickchart\" onclick=\"quickchart('df-cbb5d6b1-125c-409f-9df3-1107c7d3d05f')\"\n",
              "                title=\"Suggest charts\"\n",
              "                style=\"display:none;\">\n",
              "\n",
              "<svg xmlns=\"http://www.w3.org/2000/svg\" height=\"24px\"viewBox=\"0 0 24 24\"\n",
              "     width=\"24px\">\n",
              "    <g>\n",
              "        <path d=\"M19 3H5c-1.1 0-2 .9-2 2v14c0 1.1.9 2 2 2h14c1.1 0 2-.9 2-2V5c0-1.1-.9-2-2-2zM9 17H7v-7h2v7zm4 0h-2V7h2v10zm4 0h-2v-4h2v4z\"/>\n",
              "    </g>\n",
              "</svg>\n",
              "      </button>\n",
              "\n",
              "<style>\n",
              "  .colab-df-quickchart {\n",
              "      --bg-color: #E8F0FE;\n",
              "      --fill-color: #1967D2;\n",
              "      --hover-bg-color: #E2EBFA;\n",
              "      --hover-fill-color: #174EA6;\n",
              "      --disabled-fill-color: #AAA;\n",
              "      --disabled-bg-color: #DDD;\n",
              "  }\n",
              "\n",
              "  [theme=dark] .colab-df-quickchart {\n",
              "      --bg-color: #3B4455;\n",
              "      --fill-color: #D2E3FC;\n",
              "      --hover-bg-color: #434B5C;\n",
              "      --hover-fill-color: #FFFFFF;\n",
              "      --disabled-bg-color: #3B4455;\n",
              "      --disabled-fill-color: #666;\n",
              "  }\n",
              "\n",
              "  .colab-df-quickchart {\n",
              "    background-color: var(--bg-color);\n",
              "    border: none;\n",
              "    border-radius: 50%;\n",
              "    cursor: pointer;\n",
              "    display: none;\n",
              "    fill: var(--fill-color);\n",
              "    height: 32px;\n",
              "    padding: 0;\n",
              "    width: 32px;\n",
              "  }\n",
              "\n",
              "  .colab-df-quickchart:hover {\n",
              "    background-color: var(--hover-bg-color);\n",
              "    box-shadow: 0 1px 2px rgba(60, 64, 67, 0.3), 0 1px 3px 1px rgba(60, 64, 67, 0.15);\n",
              "    fill: var(--button-hover-fill-color);\n",
              "  }\n",
              "\n",
              "  .colab-df-quickchart-complete:disabled,\n",
              "  .colab-df-quickchart-complete:disabled:hover {\n",
              "    background-color: var(--disabled-bg-color);\n",
              "    fill: var(--disabled-fill-color);\n",
              "    box-shadow: none;\n",
              "  }\n",
              "\n",
              "  .colab-df-spinner {\n",
              "    border: 2px solid var(--fill-color);\n",
              "    border-color: transparent;\n",
              "    border-bottom-color: var(--fill-color);\n",
              "    animation:\n",
              "      spin 1s steps(1) infinite;\n",
              "  }\n",
              "\n",
              "  @keyframes spin {\n",
              "    0% {\n",
              "      border-color: transparent;\n",
              "      border-bottom-color: var(--fill-color);\n",
              "      border-left-color: var(--fill-color);\n",
              "    }\n",
              "    20% {\n",
              "      border-color: transparent;\n",
              "      border-left-color: var(--fill-color);\n",
              "      border-top-color: var(--fill-color);\n",
              "    }\n",
              "    30% {\n",
              "      border-color: transparent;\n",
              "      border-left-color: var(--fill-color);\n",
              "      border-top-color: var(--fill-color);\n",
              "      border-right-color: var(--fill-color);\n",
              "    }\n",
              "    40% {\n",
              "      border-color: transparent;\n",
              "      border-right-color: var(--fill-color);\n",
              "      border-top-color: var(--fill-color);\n",
              "    }\n",
              "    60% {\n",
              "      border-color: transparent;\n",
              "      border-right-color: var(--fill-color);\n",
              "    }\n",
              "    80% {\n",
              "      border-color: transparent;\n",
              "      border-right-color: var(--fill-color);\n",
              "      border-bottom-color: var(--fill-color);\n",
              "    }\n",
              "    90% {\n",
              "      border-color: transparent;\n",
              "      border-bottom-color: var(--fill-color);\n",
              "    }\n",
              "  }\n",
              "</style>\n",
              "\n",
              "      <script>\n",
              "        async function quickchart(key) {\n",
              "          const quickchartButtonEl =\n",
              "            document.querySelector('#' + key + ' button');\n",
              "          quickchartButtonEl.disabled = true;  // To prevent multiple clicks.\n",
              "          quickchartButtonEl.classList.add('colab-df-spinner');\n",
              "          try {\n",
              "            const charts = await google.colab.kernel.invokeFunction(\n",
              "                'suggestCharts', [key], {});\n",
              "          } catch (error) {\n",
              "            console.error('Error during call to suggestCharts:', error);\n",
              "          }\n",
              "          quickchartButtonEl.classList.remove('colab-df-spinner');\n",
              "          quickchartButtonEl.classList.add('colab-df-quickchart-complete');\n",
              "        }\n",
              "        (() => {\n",
              "          let quickchartButtonEl =\n",
              "            document.querySelector('#df-cbb5d6b1-125c-409f-9df3-1107c7d3d05f button');\n",
              "          quickchartButtonEl.style.display =\n",
              "            google.colab.kernel.accessAllowed ? 'block' : 'none';\n",
              "        })();\n",
              "      </script>\n",
              "    </div>\n",
              "\n",
              "    </div>\n",
              "  </div>\n"
            ],
            "application/vnd.google.colaboratory.intrinsic+json": {
              "type": "dataframe",
              "variable_name": "rain_df",
              "summary": "{\n  \"name\": \"rain_df\",\n  \"rows\": 30,\n  \"fields\": [\n    {\n      \"column\": \"\\t\\uc9c0\\uc810\\ubc88\\ud638\",\n      \"properties\": {\n        \"dtype\": \"number\",\n        \"std\": 0,\n        \"min\": 108,\n        \"max\": 108,\n        \"num_unique_values\": 1,\n        \"samples\": [\n          108\n        ],\n        \"semantic_type\": \"\",\n        \"description\": \"\"\n      }\n    },\n    {\n      \"column\": \"\\uc9c0\\uc810\\uba85\",\n      \"properties\": {\n        \"dtype\": \"category\",\n        \"num_unique_values\": 1,\n        \"samples\": [\n          \"\\uc11c\\uc6b8\"\n        ],\n        \"semantic_type\": \"\",\n        \"description\": \"\"\n      }\n    },\n    {\n      \"column\": \"\\uc77c\\uc2dc\",\n      \"properties\": {\n        \"dtype\": \"object\",\n        \"num_unique_values\": 30,\n        \"samples\": [\n          \"2023-04-28\"\n        ],\n        \"semantic_type\": \"\",\n        \"description\": \"\"\n      }\n    },\n    {\n      \"column\": \"\\uac15\\uc218\\ub7c9(mm)\",\n      \"properties\": {\n        \"dtype\": \"number\",\n        \"std\": 14.08808435803537,\n        \"min\": 0.0,\n        \"max\": 50.3,\n        \"num_unique_values\": 12,\n        \"samples\": [\n          25.1\n        ],\n        \"semantic_type\": \"\",\n        \"description\": \"\"\n      }\n    },\n    {\n      \"column\": \"1\\uc2dc\\uac04\\ucd5c\\ub2e4\\uac15\\uc218\\ub7c9(mm)\",\n      \"properties\": {\n        \"dtype\": \"number\",\n        \"std\": 2.5458865767230208,\n        \"min\": 0.0,\n        \"max\": 9.0,\n        \"num_unique_values\": 12,\n        \"samples\": [\n          4.9\n        ],\n        \"semantic_type\": \"\",\n        \"description\": \"\"\n      }\n    },\n    {\n      \"column\": \"1\\uc2dc\\uac04\\ucd5c\\ub2e4\\uac15\\uc218\\ub7c9\\uc2dc\\uac01\",\n      \"properties\": {\n        \"dtype\": \"date\",\n        \"min\": \"2025-10-18 03:03:00\",\n        \"max\": \"2025-10-18 22:51:00\",\n        \"num_unique_values\": 10,\n        \"samples\": [\n          \"22:51\"\n        ],\n        \"semantic_type\": \"\",\n        \"description\": \"\"\n      }\n    },\n    {\n      \"column\": \"Unnamed: 6\",\n      \"properties\": {\n        \"dtype\": \"number\",\n        \"std\": null,\n        \"min\": null,\n        \"max\": null,\n        \"num_unique_values\": 0,\n        \"samples\": [],\n        \"semantic_type\": \"\",\n        \"description\": \"\"\n      }\n    }\n  ]\n}"
            }
          },
          "metadata": {},
          "execution_count": 20
        }
      ]
    },
    {
      "cell_type": "markdown",
      "source": [
        "## 12-11 강수량 데이터 전처리"
      ],
      "metadata": {
        "id": "w9T_mFxEpd-e"
      }
    },
    {
      "cell_type": "code",
      "source": [
        "## '일시' 컬럼 datetime 형식으로 변환\n",
        "rain_df['일시'] = pd.to_datetime(rain_df['일시'], format='%Y-%m-%d')\n",
        "## '강수량(mm)' 컬럼 결측치 0으로 채우기\n",
        "rain_df['강수량(mm)'] = rain_df['강수량(mm)'].fillna(0) # NaN을 0으로 바꿈\n",
        "## 불필요한 컬럼 제거\n",
        "rain_df.drop(columns=['\\t지점번호', 'Unnamed: 6'], inplace=True) # 불필요한 칼럼 제거"
      ],
      "metadata": {
        "id": "n-gYb7AA-lnq"
      },
      "execution_count": 21,
      "outputs": []
    },
    {
      "cell_type": "code",
      "source": [
        "rain_df"
      ],
      "metadata": {
        "collapsed": true,
        "id": "R2n05jo882yG"
      },
      "execution_count": null,
      "outputs": []
    },
    {
      "cell_type": "markdown",
      "source": [
        "## 12-12 일자별 이용량 데이터와 강수량 데이터 병합"
      ],
      "metadata": {
        "id": "48eyib7wpx1p"
      }
    },
    {
      "cell_type": "code",
      "source": [
        "## 일자별 이용량과 강수량 데이터 병합 (daily_usage_gf의 기준_날짜, rain_df의 일시를 기준으로 결합)\n",
        "merged_df = pd.merge(daily_usage_df, rain_df, how='left', left_on='기준_날짜', right_on='일시')\n",
        "## 'count' 컬럼명 '이용량'으로 변경\n",
        "merged_df.rename(columns={'count': '이용량'}, inplace=True)\n",
        "## 병합된 데이터프레임 상위 5행 출력\n",
        "merged_df.head(5)"
      ],
      "metadata": {
        "id": "zRaUqhct-nWK",
        "colab": {
          "base_uri": "https://localhost:8080/",
          "height": 261
        },
        "outputId": "e3579c7f-bbaf-4db6-d0b1-052e7f515e22"
      },
      "execution_count": 23,
      "outputs": [
        {
          "output_type": "stream",
          "name": "stderr",
          "text": [
            "/usr/local/lib/python3.12/dist-packages/google/colab/_dataframe_summarizer.py:88: UserWarning: Could not infer format, so each element will be parsed individually, falling back to `dateutil`. To ensure parsing is consistent and as-expected, please specify a format.\n",
            "  cast_date_col = pd.to_datetime(column, errors=\"coerce\")\n"
          ]
        },
        {
          "output_type": "execute_result",
          "data": {
            "text/plain": [
              "      이용량 지점명         일시  강수량(mm)  1시간최다강수량(mm) 1시간최다강수량시각\n",
              "0  131255  서울 2023-04-01      0.0           NaN        NaN\n",
              "1  127850  서울 2023-04-02      0.0           NaN        NaN\n",
              "2  155558  서울 2023-04-03      0.0           NaN        NaN\n",
              "3  122686  서울 2023-04-04      6.9           3.1      21:38\n",
              "4   21328  서울 2023-04-05     50.3           9.0      12:10"
            ],
            "text/html": [
              "\n",
              "  <div id=\"df-012ae757-4a68-4b9f-81c5-b6a08531bc79\" class=\"colab-df-container\">\n",
              "    <div>\n",
              "<style scoped>\n",
              "    .dataframe tbody tr th:only-of-type {\n",
              "        vertical-align: middle;\n",
              "    }\n",
              "\n",
              "    .dataframe tbody tr th {\n",
              "        vertical-align: top;\n",
              "    }\n",
              "\n",
              "    .dataframe thead th {\n",
              "        text-align: right;\n",
              "    }\n",
              "</style>\n",
              "<table border=\"1\" class=\"dataframe\">\n",
              "  <thead>\n",
              "    <tr style=\"text-align: right;\">\n",
              "      <th></th>\n",
              "      <th>이용량</th>\n",
              "      <th>지점명</th>\n",
              "      <th>일시</th>\n",
              "      <th>강수량(mm)</th>\n",
              "      <th>1시간최다강수량(mm)</th>\n",
              "      <th>1시간최다강수량시각</th>\n",
              "    </tr>\n",
              "  </thead>\n",
              "  <tbody>\n",
              "    <tr>\n",
              "      <th>0</th>\n",
              "      <td>131255</td>\n",
              "      <td>서울</td>\n",
              "      <td>2023-04-01</td>\n",
              "      <td>0.0</td>\n",
              "      <td>NaN</td>\n",
              "      <td>NaN</td>\n",
              "    </tr>\n",
              "    <tr>\n",
              "      <th>1</th>\n",
              "      <td>127850</td>\n",
              "      <td>서울</td>\n",
              "      <td>2023-04-02</td>\n",
              "      <td>0.0</td>\n",
              "      <td>NaN</td>\n",
              "      <td>NaN</td>\n",
              "    </tr>\n",
              "    <tr>\n",
              "      <th>2</th>\n",
              "      <td>155558</td>\n",
              "      <td>서울</td>\n",
              "      <td>2023-04-03</td>\n",
              "      <td>0.0</td>\n",
              "      <td>NaN</td>\n",
              "      <td>NaN</td>\n",
              "    </tr>\n",
              "    <tr>\n",
              "      <th>3</th>\n",
              "      <td>122686</td>\n",
              "      <td>서울</td>\n",
              "      <td>2023-04-04</td>\n",
              "      <td>6.9</td>\n",
              "      <td>3.1</td>\n",
              "      <td>21:38</td>\n",
              "    </tr>\n",
              "    <tr>\n",
              "      <th>4</th>\n",
              "      <td>21328</td>\n",
              "      <td>서울</td>\n",
              "      <td>2023-04-05</td>\n",
              "      <td>50.3</td>\n",
              "      <td>9.0</td>\n",
              "      <td>12:10</td>\n",
              "    </tr>\n",
              "  </tbody>\n",
              "</table>\n",
              "</div>\n",
              "    <div class=\"colab-df-buttons\">\n",
              "\n",
              "  <div class=\"colab-df-container\">\n",
              "    <button class=\"colab-df-convert\" onclick=\"convertToInteractive('df-012ae757-4a68-4b9f-81c5-b6a08531bc79')\"\n",
              "            title=\"Convert this dataframe to an interactive table.\"\n",
              "            style=\"display:none;\">\n",
              "\n",
              "  <svg xmlns=\"http://www.w3.org/2000/svg\" height=\"24px\" viewBox=\"0 -960 960 960\">\n",
              "    <path d=\"M120-120v-720h720v720H120Zm60-500h600v-160H180v160Zm220 220h160v-160H400v160Zm0 220h160v-160H400v160ZM180-400h160v-160H180v160Zm440 0h160v-160H620v160ZM180-180h160v-160H180v160Zm440 0h160v-160H620v160Z\"/>\n",
              "  </svg>\n",
              "    </button>\n",
              "\n",
              "  <style>\n",
              "    .colab-df-container {\n",
              "      display:flex;\n",
              "      gap: 12px;\n",
              "    }\n",
              "\n",
              "    .colab-df-convert {\n",
              "      background-color: #E8F0FE;\n",
              "      border: none;\n",
              "      border-radius: 50%;\n",
              "      cursor: pointer;\n",
              "      display: none;\n",
              "      fill: #1967D2;\n",
              "      height: 32px;\n",
              "      padding: 0 0 0 0;\n",
              "      width: 32px;\n",
              "    }\n",
              "\n",
              "    .colab-df-convert:hover {\n",
              "      background-color: #E2EBFA;\n",
              "      box-shadow: 0px 1px 2px rgba(60, 64, 67, 0.3), 0px 1px 3px 1px rgba(60, 64, 67, 0.15);\n",
              "      fill: #174EA6;\n",
              "    }\n",
              "\n",
              "    .colab-df-buttons div {\n",
              "      margin-bottom: 4px;\n",
              "    }\n",
              "\n",
              "    [theme=dark] .colab-df-convert {\n",
              "      background-color: #3B4455;\n",
              "      fill: #D2E3FC;\n",
              "    }\n",
              "\n",
              "    [theme=dark] .colab-df-convert:hover {\n",
              "      background-color: #434B5C;\n",
              "      box-shadow: 0px 1px 3px 1px rgba(0, 0, 0, 0.15);\n",
              "      filter: drop-shadow(0px 1px 2px rgba(0, 0, 0, 0.3));\n",
              "      fill: #FFFFFF;\n",
              "    }\n",
              "  </style>\n",
              "\n",
              "    <script>\n",
              "      const buttonEl =\n",
              "        document.querySelector('#df-012ae757-4a68-4b9f-81c5-b6a08531bc79 button.colab-df-convert');\n",
              "      buttonEl.style.display =\n",
              "        google.colab.kernel.accessAllowed ? 'block' : 'none';\n",
              "\n",
              "      async function convertToInteractive(key) {\n",
              "        const element = document.querySelector('#df-012ae757-4a68-4b9f-81c5-b6a08531bc79');\n",
              "        const dataTable =\n",
              "          await google.colab.kernel.invokeFunction('convertToInteractive',\n",
              "                                                    [key], {});\n",
              "        if (!dataTable) return;\n",
              "\n",
              "        const docLinkHtml = 'Like what you see? Visit the ' +\n",
              "          '<a target=\"_blank\" href=https://colab.research.google.com/notebooks/data_table.ipynb>data table notebook</a>'\n",
              "          + ' to learn more about interactive tables.';\n",
              "        element.innerHTML = '';\n",
              "        dataTable['output_type'] = 'display_data';\n",
              "        await google.colab.output.renderOutput(dataTable, element);\n",
              "        const docLink = document.createElement('div');\n",
              "        docLink.innerHTML = docLinkHtml;\n",
              "        element.appendChild(docLink);\n",
              "      }\n",
              "    </script>\n",
              "  </div>\n",
              "\n",
              "\n",
              "    <div id=\"df-166457e7-d1d0-4026-8d26-20da53ced9e4\">\n",
              "      <button class=\"colab-df-quickchart\" onclick=\"quickchart('df-166457e7-d1d0-4026-8d26-20da53ced9e4')\"\n",
              "                title=\"Suggest charts\"\n",
              "                style=\"display:none;\">\n",
              "\n",
              "<svg xmlns=\"http://www.w3.org/2000/svg\" height=\"24px\"viewBox=\"0 0 24 24\"\n",
              "     width=\"24px\">\n",
              "    <g>\n",
              "        <path d=\"M19 3H5c-1.1 0-2 .9-2 2v14c0 1.1.9 2 2 2h14c1.1 0 2-.9 2-2V5c0-1.1-.9-2-2-2zM9 17H7v-7h2v7zm4 0h-2V7h2v10zm4 0h-2v-4h2v4z\"/>\n",
              "    </g>\n",
              "</svg>\n",
              "      </button>\n",
              "\n",
              "<style>\n",
              "  .colab-df-quickchart {\n",
              "      --bg-color: #E8F0FE;\n",
              "      --fill-color: #1967D2;\n",
              "      --hover-bg-color: #E2EBFA;\n",
              "      --hover-fill-color: #174EA6;\n",
              "      --disabled-fill-color: #AAA;\n",
              "      --disabled-bg-color: #DDD;\n",
              "  }\n",
              "\n",
              "  [theme=dark] .colab-df-quickchart {\n",
              "      --bg-color: #3B4455;\n",
              "      --fill-color: #D2E3FC;\n",
              "      --hover-bg-color: #434B5C;\n",
              "      --hover-fill-color: #FFFFFF;\n",
              "      --disabled-bg-color: #3B4455;\n",
              "      --disabled-fill-color: #666;\n",
              "  }\n",
              "\n",
              "  .colab-df-quickchart {\n",
              "    background-color: var(--bg-color);\n",
              "    border: none;\n",
              "    border-radius: 50%;\n",
              "    cursor: pointer;\n",
              "    display: none;\n",
              "    fill: var(--fill-color);\n",
              "    height: 32px;\n",
              "    padding: 0;\n",
              "    width: 32px;\n",
              "  }\n",
              "\n",
              "  .colab-df-quickchart:hover {\n",
              "    background-color: var(--hover-bg-color);\n",
              "    box-shadow: 0 1px 2px rgba(60, 64, 67, 0.3), 0 1px 3px 1px rgba(60, 64, 67, 0.15);\n",
              "    fill: var(--button-hover-fill-color);\n",
              "  }\n",
              "\n",
              "  .colab-df-quickchart-complete:disabled,\n",
              "  .colab-df-quickchart-complete:disabled:hover {\n",
              "    background-color: var(--disabled-bg-color);\n",
              "    fill: var(--disabled-fill-color);\n",
              "    box-shadow: none;\n",
              "  }\n",
              "\n",
              "  .colab-df-spinner {\n",
              "    border: 2px solid var(--fill-color);\n",
              "    border-color: transparent;\n",
              "    border-bottom-color: var(--fill-color);\n",
              "    animation:\n",
              "      spin 1s steps(1) infinite;\n",
              "  }\n",
              "\n",
              "  @keyframes spin {\n",
              "    0% {\n",
              "      border-color: transparent;\n",
              "      border-bottom-color: var(--fill-color);\n",
              "      border-left-color: var(--fill-color);\n",
              "    }\n",
              "    20% {\n",
              "      border-color: transparent;\n",
              "      border-left-color: var(--fill-color);\n",
              "      border-top-color: var(--fill-color);\n",
              "    }\n",
              "    30% {\n",
              "      border-color: transparent;\n",
              "      border-left-color: var(--fill-color);\n",
              "      border-top-color: var(--fill-color);\n",
              "      border-right-color: var(--fill-color);\n",
              "    }\n",
              "    40% {\n",
              "      border-color: transparent;\n",
              "      border-right-color: var(--fill-color);\n",
              "      border-top-color: var(--fill-color);\n",
              "    }\n",
              "    60% {\n",
              "      border-color: transparent;\n",
              "      border-right-color: var(--fill-color);\n",
              "    }\n",
              "    80% {\n",
              "      border-color: transparent;\n",
              "      border-right-color: var(--fill-color);\n",
              "      border-bottom-color: var(--fill-color);\n",
              "    }\n",
              "    90% {\n",
              "      border-color: transparent;\n",
              "      border-bottom-color: var(--fill-color);\n",
              "    }\n",
              "  }\n",
              "</style>\n",
              "\n",
              "      <script>\n",
              "        async function quickchart(key) {\n",
              "          const quickchartButtonEl =\n",
              "            document.querySelector('#' + key + ' button');\n",
              "          quickchartButtonEl.disabled = true;  // To prevent multiple clicks.\n",
              "          quickchartButtonEl.classList.add('colab-df-spinner');\n",
              "          try {\n",
              "            const charts = await google.colab.kernel.invokeFunction(\n",
              "                'suggestCharts', [key], {});\n",
              "          } catch (error) {\n",
              "            console.error('Error during call to suggestCharts:', error);\n",
              "          }\n",
              "          quickchartButtonEl.classList.remove('colab-df-spinner');\n",
              "          quickchartButtonEl.classList.add('colab-df-quickchart-complete');\n",
              "        }\n",
              "        (() => {\n",
              "          let quickchartButtonEl =\n",
              "            document.querySelector('#df-166457e7-d1d0-4026-8d26-20da53ced9e4 button');\n",
              "          quickchartButtonEl.style.display =\n",
              "            google.colab.kernel.accessAllowed ? 'block' : 'none';\n",
              "        })();\n",
              "      </script>\n",
              "    </div>\n",
              "\n",
              "    </div>\n",
              "  </div>\n"
            ],
            "application/vnd.google.colaboratory.intrinsic+json": {
              "type": "dataframe",
              "variable_name": "merged_df",
              "summary": "{\n  \"name\": \"merged_df\",\n  \"rows\": 30,\n  \"fields\": [\n    {\n      \"column\": \"\\uc774\\uc6a9\\ub7c9\",\n      \"properties\": {\n        \"dtype\": \"number\",\n        \"std\": 34918,\n        \"min\": 21328,\n        \"max\": 158345,\n        \"num_unique_values\": 30,\n        \"samples\": [\n          146278,\n          93039,\n          151390\n        ],\n        \"semantic_type\": \"\",\n        \"description\": \"\"\n      }\n    },\n    {\n      \"column\": \"\\uc9c0\\uc810\\uba85\",\n      \"properties\": {\n        \"dtype\": \"category\",\n        \"num_unique_values\": 1,\n        \"samples\": [\n          \"\\uc11c\\uc6b8\"\n        ],\n        \"semantic_type\": \"\",\n        \"description\": \"\"\n      }\n    },\n    {\n      \"column\": \"\\uc77c\\uc2dc\",\n      \"properties\": {\n        \"dtype\": \"date\",\n        \"min\": \"2023-04-01 00:00:00\",\n        \"max\": \"2023-04-30 00:00:00\",\n        \"num_unique_values\": 30,\n        \"samples\": [\n          \"2023-04-28 00:00:00\"\n        ],\n        \"semantic_type\": \"\",\n        \"description\": \"\"\n      }\n    },\n    {\n      \"column\": \"\\uac15\\uc218\\ub7c9(mm)\",\n      \"properties\": {\n        \"dtype\": \"number\",\n        \"std\": 10.065069333574165,\n        \"min\": 0.0,\n        \"max\": 50.3,\n        \"num_unique_values\": 12,\n        \"samples\": [\n          25.1\n        ],\n        \"semantic_type\": \"\",\n        \"description\": \"\"\n      }\n    },\n    {\n      \"column\": \"1\\uc2dc\\uac04\\ucd5c\\ub2e4\\uac15\\uc218\\ub7c9(mm)\",\n      \"properties\": {\n        \"dtype\": \"number\",\n        \"std\": 2.5458865767230208,\n        \"min\": 0.0,\n        \"max\": 9.0,\n        \"num_unique_values\": 12,\n        \"samples\": [\n          4.9\n        ],\n        \"semantic_type\": \"\",\n        \"description\": \"\"\n      }\n    },\n    {\n      \"column\": \"1\\uc2dc\\uac04\\ucd5c\\ub2e4\\uac15\\uc218\\ub7c9\\uc2dc\\uac01\",\n      \"properties\": {\n        \"dtype\": \"date\",\n        \"min\": \"2025-10-18 03:03:00\",\n        \"max\": \"2025-10-18 22:51:00\",\n        \"num_unique_values\": 10,\n        \"samples\": [\n          \"22:51\"\n        ],\n        \"semantic_type\": \"\",\n        \"description\": \"\"\n      }\n    }\n  ]\n}"
            }
          },
          "metadata": {},
          "execution_count": 23
        }
      ]
    },
    {
      "cell_type": "markdown",
      "source": [
        "## 12-13 이용량 및 강수량 시각화"
      ],
      "metadata": {
        "id": "0mT2QZYMrswf"
      }
    },
    {
      "cell_type": "code",
      "source": [
        "## 두 개의 y축을 가진 서브플롯 생성\n",
        "fig, ax1 = plt.subplots()\n",
        "ax2 = ax1.twinx() ## 두 번째 y축 생성\n",
        "\n",
        "## 첫 번째 y축에 이용량 막대 그래프 그리기\n",
        "ax1.bar(merged_df['일시'], merged_df['이용량'], color='b')\n",
        "## 두 번째 y축에 강수량 꺾은선 그래프 그리기\n",
        "ax2.plot(merged_df['일시'], merged_df['강수량(mm)'], color='r')\n",
        "\n",
        "## x축 및 y축 레이블 설정\n",
        "ax1.set_xlabel('날짜')\n",
        "ax1.set_ylabel('이용량', color='b')\n",
        "ax2.set_ylabel('강수량(mm)', color='r')\n",
        "\n",
        "## 그래프 표시\n",
        "plt.show()"
      ],
      "metadata": {
        "id": "-Yi03lPp-o6o",
        "colab": {
          "base_uri": "https://localhost:8080/",
          "height": 449
        },
        "outputId": "25149f62-3d84-466a-a69e-6ee04a8c8db4"
      },
      "execution_count": 26,
      "outputs": [
        {
          "output_type": "display_data",
          "data": {
            "text/plain": [
              "<Figure size 640x480 with 2 Axes>"
            ],
            "image/png": "[encoded data removed]"
          },
          "metadata": {}
        }
      ]
    },
    {
      "cell_type": "markdown",
      "source": [
        "## 12-14 강수량과 이용량 상관관계 분석"
      ],
      "metadata": {
        "id": "qbYAcr8or8dL"
      }
    },
    {
      "cell_type": "code",
      "source": [
        "import seaborn as sns ## seaborn 라이브러리 임포트\n",
        "\n",
        "## 강수량이 있는 날만 필터링\n",
        "merged_onlyrain_df = merged_df[merged_df['강수량(mm)'] > 0]\n",
        "## 강수량과 이용량의 상관계수 계산\n",
        "corr = merged_onlyrain_df['이용량'].corr(merged_onlyrain_df['강수량(mm)'])\n",
        "## 상관계수 출력\n",
        "print(\"강수량과 이용량의 상관계수:\", corr)\n",
        "\n",
        "## 강수량과 이용량의 회귀선 그래프 생성\n",
        "ax = sns.regplot(x='강수량(mm)', y='이용량',\n",
        "                 data=merged_onlyrain_df)\n",
        "\n",
        "## y축 범위 설정\n",
        "plt.ylim(0, merged_onlyrain_df['이용량'].max()*1.1)\n",
        "\n",
        "## 그래프 제목 및 축 레이블 설정\n",
        "plt.title(f'강수량과 이용량 상관관계 (r = {corr:.2f})')\n",
        "plt.xlabel('강수량 (mm)')\n",
        "plt.ylabel('이용 건수')\n",
        "## 그래프 표시\n",
        "plt.show()"
      ],
      "metadata": {
        "id": "X5VeveZu-rOA",
        "colab": {
          "base_uri": "https://localhost:8080/",
          "height": 488
        },
        "outputId": "129bb3d3-819a-4220-a1c2-aa2049ea8196"
      },
      "execution_count": 27,
      "outputs": [
        {
          "output_type": "stream",
          "name": "stdout",
          "text": [
            "강수량과 이용량의 상관계수: -0.7118160250062676\n"
          ]
        },
        {
          "output_type": "display_data",
          "data": {
            "text/plain": [
              "<Figure size 640x480 with 1 Axes>"
            ],
            "image/png": "[encoded data removed]"
          },
          "metadata": {}
        }
      ]
    },
    {
      "cell_type": "markdown",
      "source": [
        "## 12-15 OLS 회귀 모델 생성 및 분석 및 귀무가설 검증"
      ],
      "metadata": {
        "id": "wE8Ndc3UsISd"
      }
    },
    {
      "cell_type": "code",
      "source": [
        "import statsmodels.formula.api as smf ## statsmodels.formula.api 임포트\n",
        "\n",
        "## 컬럼명 변경: '강수량(mm)' -> '강수량_mm' (formula API 호환을 위해 : 괄호 불가)\n",
        "merged_onlyrain_df = merged_onlyrain_df.copy()\n",
        "merged_onlyrain_df.rename(columns={'강수량(mm)': '강수량_mm'}, inplace=True)\n",
        "\n",
        "## OLS 모델 정의 및 학습\n",
        "model = smf.ols(formula='이용량 ~ 강수량_mm', data=merged_onlyrain_df)\n",
        "results = model.fit()\n",
        "\n",
        "## 모델 요약 결과 출력\n",
        "print(results.summary())\n",
        "\n",
        "## 귀무가설 검증 해석\n",
        "## 강수량_mm 계수에 대한 p-value를 확인하여 귀무가설 (강수량이 이용량에 미치는 영향이 0이다) 검증\n",
        "## 일반적으로 p-value가 0.05 미만이면 귀무가설을 기각하고 유의미한 영향이 있다고 해석\n",
        "print(\"\\n--- 귀무가설 검증 (강수량 계수) ---\")\n",
        "p_value = results.pvalues['강수량_mm']\n",
        "print(f\"강수량_mm 계수의 p-value: {p_value:.4f}\")\n",
        "if p_value < 0.05:\n",
        "    print(\"p-value가 0.05보다 작으므로 귀무가설을 기각합니다.\")\n",
        "    print(\"즉, 강수량은 자전거 이용량에 통계적으로 유의미한 영향을 미칩니다.\")\n",
        "else:\n",
        "    print(\"p-value가 0.05보다 크므로 귀무가설을 기각할 수 없습니다.\")\n",
        "    print(\"즉, 강수량은 자전거 이용량에 통계적으로 유의미한 영향을 미치지 않는다고 볼 수 있습니다.\")"
      ],
      "metadata": {
        "id": "YGV-JoF9sHdt",
        "colab": {
          "base_uri": "https://localhost:8080/"
        },
        "outputId": "c56275d4-3ee7-49d8-94b1-d5b3bdedc95d"
      },
      "execution_count": 28,
      "outputs": [
        {
          "output_type": "stream",
          "name": "stdout",
          "text": [
            "                            OLS Regression Results                            \n",
            "==============================================================================\n",
            "Dep. Variable:                    이용량   R-squared:                       0.507\n",
            "Model:                            OLS   Adj. R-squared:                  0.452\n",
            "Method:                 Least Squares   F-statistic:                     9.244\n",
            "Date:                Sat, 18 Oct 2025   Prob (F-statistic):             0.0140\n",
            "Time:                        06:25:50   Log-Likelihood:                -127.17\n",
            "No. Observations:                  11   AIC:                             258.3\n",
            "Df Residuals:                       9   BIC:                             259.1\n",
            "Df Model:                           1                                         \n",
            "Covariance Type:            nonrobust                                         \n",
            "==============================================================================\n",
            "                 coef    std err          t      P>|t|      [0.025      0.975]\n",
            "------------------------------------------------------------------------------\n",
            "Intercept   1.034e+05   9855.144     10.494      0.000    8.11e+04    1.26e+05\n",
            "강수량_mm     -1742.9559    573.272     -3.040      0.014   -3039.788    -446.124\n",
            "==============================================================================\n",
            "Omnibus:                        0.561   Durbin-Watson:                   2.504\n",
            "Prob(Omnibus):                  0.755   Jarque-Bera (JB):                0.568\n",
            "Skew:                           0.385   Prob(JB):                        0.753\n",
            "Kurtosis:                       2.197   Cond. No.                         20.0\n",
            "==============================================================================\n",
            "\n",
            "Notes:\n",
            "[1] Standard Errors assume that the covariance matrix of the errors is correctly specified.\n",
            "\n",
            "--- 귀무가설 검증 (강수량 계수) ---\n",
            "강수량_mm 계수의 p-value: 0.0140\n",
            "p-value가 0.05보다 작으므로 귀무가설을 기각합니다.\n",
            "즉, 강수량은 자전거 이용량에 통계적으로 유의미한 영향을 미칩니다.\n"
          ]
        }
      ]
    }
  ]
}